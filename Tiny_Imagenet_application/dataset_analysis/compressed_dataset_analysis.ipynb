{
 "cells": [
  {
   "cell_type": "code",
   "execution_count": 1,
   "metadata": {},
   "outputs": [],
   "source": [
    "import numpy as np\n",
    "\n",
    "compressed_imagenet = np.load(\"reduced_images.npy\")"
   ]
  },
  {
   "cell_type": "code",
   "execution_count": 2,
   "metadata": {},
   "outputs": [
    {
     "name": "stdout",
     "output_type": "stream",
     "text": [
      "[[ 1.    0.36  0.83  0.28  0.49 -0.38]\n",
      " [ 0.36  1.    0.38 -0.04  0.16 -0.03]\n",
      " [ 0.83  0.38  1.    0.43  0.88  0.02]\n",
      " [ 0.28 -0.04  0.43  1.    0.33  0.69]\n",
      " [ 0.49  0.16  0.88  0.33  1.    0.21]\n",
      " [-0.38 -0.03  0.02  0.69  0.21  1.  ]]\n"
     ]
    }
   ],
   "source": [
    "# Set print options to display floats with two decimal places\n",
    "np.set_printoptions(precision=2, suppress=True)\n",
    "\n",
    "# Compute correlation matrix for all 10 features\n",
    "correlation_matrix = np.corrcoef(compressed_imagenet, rowvar=False)\n",
    "print(correlation_matrix)"
   ]
  },
  {
   "cell_type": "code",
   "execution_count": 3,
   "metadata": {},
   "outputs": [
    {
     "name": "stdout",
     "output_type": "stream",
     "text": [
      "[2.35 0.12 2.08 0.06 0.79 0.35]\n"
     ]
    }
   ],
   "source": [
    "# Compute variances of features\n",
    "feature_variances = np.var(compressed_imagenet, axis=0)\n",
    "print(feature_variances)"
   ]
  }
 ],
 "metadata": {
  "kernelspec": {
   "display_name": "Python 3",
   "language": "python",
   "name": "python3"
  },
  "language_info": {
   "codemirror_mode": {
    "name": "ipython",
    "version": 3
   },
   "file_extension": ".py",
   "mimetype": "text/x-python",
   "name": "python",
   "nbconvert_exporter": "python",
   "pygments_lexer": "ipython3",
   "version": "3.10.12"
  }
 },
 "nbformat": 4,
 "nbformat_minor": 2
}
